{
  "nbformat": 4,
  "nbformat_minor": 0,
  "metadata": {
    "colab": {
      "provenance": []
    },
    "kernelspec": {
      "name": "python3",
      "display_name": "Python 3"
    },
    "language_info": {
      "name": "python"
    }
  },
  "cells": [
    {
      "cell_type": "markdown",
      "source": [
        "#1\n",
        "\n",
        "Compiled languages (e.g., C, C++, Go) require a build step where the entire program is converted into machine code by a compiler before running.\n",
        "\n",
        "Interpreted languages (e.g., Python, JavaScript, PHP) are processed and executed line-by-line by an interpreter, often allowing for immediate feedback and easier debugging.\n",
        "\n",
        "In simple terms, compiled languages turn your program into instructions the computer can run all at once before you start using it, making it faster. Interpreted languages read and run your program step-by-step as it goes, making them easier to change on the fly, but usually a bit slower.\n",
        "\n",
        "\n",
        "\n",
        "#2\n",
        "Exception handling in Python means having a backup plan for your code when something goes wrong, like an error or a mistake while the program runs. Instead of crashing, Python lets you catch these problems and respond to them nicely using special keywords like try and except.\n",
        "\n",
        "\n",
        "\n",
        "#3\n",
        "The purpose of the finally block in Python exception handling is to make sure some code always runs, whether or not there was an error. It’s most often used to clean up resources, like closing a file or releasing memory, so things don’t get left open by accident.\n",
        "\n",
        "The finally block will always execute after a try-except block, no matter if there was an exception or everything worked fine.\n",
        "\n",
        "\n",
        "\n",
        "#4\n",
        "Logging in Python means recording messages about what your program is doing while it runs, such as noting errors, warnings, or simple information. This helps people who read those messages later to understand what happened in the program and to find and fix problems more easily.\n",
        "\n",
        "\n",
        "#5\n",
        "The __del__ method in Python is a special function that runs just before an object is destroyed or removed from memory. Its main purpose is to let you clean up resources, like closing files or releasing memory, so nothing important is left open when your object goes away.\n",
        "\n",
        "When Python sees that an object is no longer needed, it clears it from memory—and if you’ve defined a __del__ method, Python will run that method first.\n",
        "\n",
        "\n",
        "#6\n",
        "In Python, using import brings in the whole module, so you access its parts with the module name (like math.sqrt()), while from ... import ... lets you pull out specific items from a module directly into your own code (like from math import sqrt so you just use sqrt()). The import statement keeps your code clear about where functions come from, is safer against name clashes, and is better if you need many parts of a module; from ... import ... makes code shorter and easier when only a few features are needed, but can risk overwriting existing names if you’re not careful.\n",
        "\n",
        "\n",
        "#7\n",
        "In Python, multiple exceptions can be handled by grouping them together in a tuple within a single except block, such as except (TypeError, ValueError): to handle both errors with one set of actions, or by writing separate except blocks for each exception if they need to be handled differently. This approach makes code cleaner and ensures your program responds correctly no matter which of several anticipated errors occurs, keeping things running smoothly instead of crashing.\n",
        "\n",
        "\n",
        "#8\n",
        "The purpose of the with statement in Python when handling files is to simplify resource management by automatically opening and closing the file for you, even if errors occur while working with it, so you don’t have to write extra code to manually close the file and avoid problems like memory leaks or file corruption. Using with makes your code cleaner, safer, and more readable by ensuring that files are always properly closed once you’re done with them.\n",
        "\n",
        "\n",
        "#9\n",
        "Multithreading in Python means running multiple threads (small tasks) at the same time within a single process, sharing the same memory space, and is best for tasks like waiting for files or web data; multiprocessing, on the other hand, starts multiple separate processes that don’t share memory and can actually run in parallel on different CPU cores, making it better for heavy computational work, since each process can use a different core for true parallel execution. In short, multithreading is good for “doing several things at once” inside one program (mostly for input/output tasks), and multiprocessing is better for “doing several things truly at the same time” especially when your computer has more than one core.\n",
        "\n",
        "\n",
        "#10\n",
        "Using logging in a Python program provides several advantages: it helps developers easily debug issues by recording error details, warnings, and important events along with contextual information like timestamps and module names; it supports monitoring and analyzing application behavior over time, making it easier to spot patterns, trends, or performance problems. Logging is more flexible and powerful than simple print statements because logs can be filtered, categorized by severity level (like INFO, WARNING, ERROR), sent to different places (console, files, remote servers), and reconfigured without changing the core code. It also enables better audit trails for compliance checks and faster incident investigation, helping teams resolve issues quickly and ensure reliable, maintainable software.\n",
        "\n",
        "\n",
        "#11\n",
        "Memory management in Python is the system that automatically allocates and frees memory as programs run, using mechanisms like reference counting and garbage collection so programmers don’t have to manage memory by themselves. All Python data and objects live in a private heap managed by the interpreter; if objects aren't needed anymore (their reference count is zero), Python's garbage collector removes them to reuse memory efficiently. This process helps prevent problems like memory leaks and ensures that programs stay fast and reliable, while developers can still optimize usage further for big data or advanced applications.\n",
        "\n",
        "\n",
        "#12\n",
        "The basic steps in Python exception handling are: first, write code inside a try block where errors might happen; if an exception occurs, Python immediately jumps to the except block, where you decide how to handle that specific error, keeping your program from crashing. You can also use multiple except blocks for different types of exceptions, an else block to run code if no errors occurred, and a finally block to handle clean-up actions regardless of what happened. This organized process lets you catch, respond to, and recover from problems, making your code more robust and user-friendly.\n",
        "\n",
        "\n",
        "#13\n",
        "Memory management is important in Python because it ensures programs run efficiently by automatically allocating and freeing memory for objects, which prevents memory leaks and system crashes, keeps applications stable, and allows them to handle large data sets without running out of resources. By using automatic techniques like reference counting and garbage collection, Python’s memory manager frees developers from manual memory handling, making code simpler and less prone to error while helping maintain high performance and reliability. Without proper memory management, programs could slow down, freeze, or fail, especially in complex or data-intensive tasks such as AI and machine learning.\n",
        "\n",
        "\n",
        "#14\n",
        "In Python, the try block is used to wrap risky code that could cause errors, such as dividing by zero or working with files that might not exist, and the except block lets programmers catch those errors and respond to them with specific instructions instead of letting the program crash. If an error happens inside the try block, Python jumps immediately to the except block, where you can print a custom message, retry the operation, or take steps to fix the problem, which makes your code safer and more robust. You can even use multiple except blocks to handle different types of errors separately, and optionally combine them with else and finally blocks for actions that should occur only if no error happens, or always regardless of success or failure. This enables developers to maintain user-friendliness, create reliable programs, and keep applications running smoothly even when unexpected situations occur.\n",
        "\n",
        "#15\n",
        "Python's garbage collection system works by automatically freeing memory that is no longer in use through two main strategies: reference counting and generational garbage collection. Reference counting tracks how many references exist to each object, and when that count hits zero, Python immediately deletes the object and reclaims the memory. To handle cases where objects reference each other in cycles (making their reference count never reach zero), Python uses a generational garbage collector found in the gc module that periodically scans for and removes such unreachable objects based on allocation and deallocation thresholds. This entire process runs automatically, efficiently reduces memory leaks, and keeps programs safe and running smoothly so developers don't have to manually manage memory themselves.\n",
        "\n",
        "#16\n",
        "The purpose of the else block in Python exception handling is to run code only if the try block completes successfully without raising any exceptions, making it useful for actions that should happen only when everything goes right, such as further processing or confirming success. This allows code to be cleaner and more readable by keeping success-related actions separate from error handling, while avoiding accidentally catching exceptions from unrelated operations within the try block.\n",
        "\n",
        "\n",
        "#17\n",
        "The common logging levels in Python, arranged by severity from lowest to highest, are: DEBUG (for detailed diagnostic information), INFO (for general info on program execution), WARNING (for potential issues that don’t stop the program), ERROR (for serious problems that might prevent normal execution), and CRITICAL (for very severe errors that may cause the program to stop running). There’s also NOTSET, used as a default level, but it’s less commonly specified directly in application code.\n",
        "\n",
        "#18\n",
        "The difference between os.fork() and multiprocessing in Python is that os.fork() directly creates a new child process as a copy of the current process, inheriting all memory and resources, but is only supported on Unix-like systems and can be error-prone, especially with multithreading. Multiprocessing, on the other hand, is a high-level library that abstracts process management and provides platform-independent ways to create new processes (using fork, spawn, or forkserver), offers safer resource management, communication tools, and works on Windows as well as Unix, making it more portable and robust for parallel tasks in Python code.\n",
        "\n",
        "\n",
        "#19\n",
        "Closing a file in Python is important because it ensures that all data is properly written and saved, releases system resources that the file was using, and helps prevent data corruption or memory leaks. If a file is left open, changes might not be saved due to buffering, and you could run out of file handles or cause your program to slow down or crash. By always closing files (or using the with statement, which handles closing automatically), your application remains reliable, efficient, and safe from hard-to-debug issues.\n",
        "\n",
        "\n",
        "#20\n",
        "The difference between file.read() and file.readline() in Python is that file.read() reads the entire contents of the file as a single string, so it's best for loading small files where you want all the data at once, while file.readline() reads only one line at a time, returning each line as a string and is more memory-efficient for large files or when you want to process files line by line. Using file.readline() is especially helpful when working with huge files since it doesn't load the whole file into memory—the method returns the next line each time you call it and stops when it reaches the end.\n",
        "\n",
        "#21\n",
        "The logging module in Python is used to record events and messages about a program’s execution, such as errors, warnings, and general information, allowing developers to track application flow, debug problems, and monitor system behavior easily. It offers flexible ways to output logs to files, consoles, networks, or custom handlers, supports various severity levels (like DEBUG, INFO, WARNING, ERROR, and CRITICAL), and lets you structure log messages with timestamps, module names, and other details, enabling more reliable and maintainable application development.\n",
        "\n",
        "\n",
        "#22\n",
        "The os module in Python is used for file handling tasks that require interaction with the operating system, such as creating, deleting, renaming, and moving files and directories, checking if files exist, changing file permissions, and working with file paths. Unlike the basic open() function which handles reading and writing data, os provides low-level operations and access to metadata, making it essential for advanced scripting, system automation, and managing files and directories across different platforms.\n",
        "\n",
        "#23\n",
        "Challenges associated with memory management in Python include dealing with memory leaks from lingering references and cyclic data structures, efficiently handling large datasets that can exhaust system resources, and the limitations of the garbage collector, which may not always immediately free inaccessible objects or release memory back to the operating system. Cyclic references—where objects reference each other—can prevent proper cleanup and require special handling through garbage collection, while some Python libraries and long-lived applications can cause unexpected memory growth or fragmentation. Additionally, detecting and debugging such memory issues can be complex, so developers often need tools like tracemalloc and careful programming patterns to track, optimize, and manage memory usage effectively.\n",
        "\n",
        "\n",
        "#24\n",
        "To raise an exception manually in Python, use the raise keyword followed by an exception class (built-in or custom) or an instance of that class, like raise ValueError(\"Invalid input\") or raise Exception(\"Something went wrong\"). This lets your code signal errors or unusual conditions intentionally, stopping normal execution and transferring control to any nearby exception handler, which makes error handling more precise and robust.\n",
        "\n",
        "\n",
        "#25\n",
        "It is important to use multithreading in certain applications because it allows programs to perform multiple tasks simultaneously, improving responsiveness and user experience, especially in I/O-bound operations like network requests, file reading, and graphical user interfaces where waiting for one task shouldn't block others. Multithreading enables servers to handle multiple user requests at once, keeps GUIs responsive during long operations, optimizes resource usage by keeping the CPU busy, and reduces latency by processing tasks as soon as possible, making applications faster, more efficient, and scalable for real-time or interactive use cases.\n",
        "\n",
        "\n",
        "\n",
        "\n",
        "\n",
        "\n",
        "\n"
      ],
      "metadata": {
        "id": "k_ifVCKbZ027"
      }
    },
    {
      "cell_type": "markdown",
      "source": [
        "practical"
      ],
      "metadata": {
        "id": "x7x3hO0yk6Z9"
      }
    },
    {
      "cell_type": "markdown",
      "source": [
        "\n",
        "practical question starts here ----"
      ],
      "metadata": {
        "id": "hi59m6I4fKlg"
      }
    },
    {
      "cell_type": "code",
      "source": [
        "#1\n",
        "with open(\"example.txt\", \"w\") as file:\n",
        "    file.write(\"Hello, world!\")"
      ],
      "metadata": {
        "id": "jgfLpq9we5k1"
      },
      "execution_count": null,
      "outputs": []
    },
    {
      "cell_type": "code",
      "source": [
        "#2\n",
        "with open(\"example.txt\", \"r\") as file:\n",
        "    for line in file:\n",
        "        print(line.strip())\n"
      ],
      "metadata": {
        "colab": {
          "base_uri": "https://localhost:8080/"
        },
        "id": "Ranh7mfefp5E",
        "outputId": "a6f252d4-c09f-4f25-eb6c-ce337e358e87"
      },
      "execution_count": null,
      "outputs": [
        {
          "output_type": "stream",
          "name": "stdout",
          "text": [
            "Hello, world!\n"
          ]
        }
      ]
    },
    {
      "cell_type": "code",
      "source": [
        "#3\n",
        "try:\n",
        "    with open(\"example.txt\", \"r\") as file:\n",
        "        for line in file:\n",
        "            print(line.strip())\n",
        "except FileNotFoundError:\n",
        "    print(\"Error: The file does not exist.\")\n"
      ],
      "metadata": {
        "colab": {
          "base_uri": "https://localhost:8080/"
        },
        "id": "ZCimT66Uf3pN",
        "outputId": "4627d6df-928a-40f9-8f6b-f7b9f98f2624"
      },
      "execution_count": null,
      "outputs": [
        {
          "output_type": "stream",
          "name": "stdout",
          "text": [
            "Hello, world!\n"
          ]
        }
      ]
    },
    {
      "cell_type": "code",
      "source": [
        "#4\n",
        "\n",
        "def copy_file(source_path, destination_path):\n",
        "    try:\n",
        "        with open(source_path, 'r', encoding='utf-8') as source_file:\n",
        "            content = source_file.read()\n",
        "\n",
        "        with open(destination_path, 'w', encoding='utf-8') as destination_file:\n",
        "            destination_file.write(content)\n",
        "\n",
        "        print(f\"Content copied from '{source_path}' to '{destination_path}' successfully.\")\n",
        "    except FileNotFoundError:\n",
        "        print(f\"Error: The file '{source_path}' was not found.\")\n",
        "    except Exception as e:\n",
        "        print(f\"An error occurred: {e}\")\n",
        "\n",
        "# Example usage:\n",
        "source = input(\"Enter the path of the source file: \")\n",
        "destination = input(\"Enter the path of the destination file: \")\n",
        "copy_file(source, destination)\n",
        "\n",
        "\n"
      ],
      "metadata": {
        "colab": {
          "base_uri": "https://localhost:8080/"
        },
        "id": "3mlsetDfgAnT",
        "outputId": "9b0e648a-bd3b-4a46-a032-a66c70e0a692"
      },
      "execution_count": null,
      "outputs": [
        {
          "output_type": "stream",
          "name": "stdout",
          "text": [
            "Enter the path of the source file: c\n",
            "Enter the path of the destination file: dc\n",
            "Error: The file 'c' was not found.\n"
          ]
        }
      ]
    },
    {
      "cell_type": "code",
      "source": [
        "#5\n",
        "try:\n",
        "    result = 10 / 0\n",
        "except ZeroDivisionError:\n",
        "    print(\"Error: Cannot divide by zero.\")\n"
      ],
      "metadata": {
        "colab": {
          "base_uri": "https://localhost:8080/"
        },
        "id": "p_YkmcbfgJdX",
        "outputId": "37e26b22-d64e-4d0a-d504-4f26a33c0fb4"
      },
      "execution_count": null,
      "outputs": [
        {
          "output_type": "stream",
          "name": "stdout",
          "text": [
            "Error: Cannot divide by zero.\n"
          ]
        }
      ]
    },
    {
      "cell_type": "code",
      "source": [
        "#6\n",
        "import logging\n",
        "\n",
        "logging.basicConfig(filename=\"error.log\", level=logging.ERROR)\n",
        "\n",
        "try:\n",
        "    result = 10 / 0\n",
        "except ZeroDivisionError:\n",
        "    logging.error(\"Division by zero error occurred.\")\n"
      ],
      "metadata": {
        "colab": {
          "base_uri": "https://localhost:8080/"
        },
        "id": "A1csaJnqge-e",
        "outputId": "ee6f2618-19ce-48bf-aa95-1b40ebb6788d"
      },
      "execution_count": null,
      "outputs": [
        {
          "output_type": "stream",
          "name": "stderr",
          "text": [
            "ERROR:root:Division by zero error occurred.\n"
          ]
        }
      ]
    },
    {
      "cell_type": "code",
      "source": [
        "#7\n",
        "import logging\n",
        "\n",
        "logging.basicConfig(filename=\"app.log\", level=logging.DEBUG)\n",
        "\n",
        "logging.info(\"This is an info message.\")\n",
        "logging.warning(\"This is a warning message.\")\n",
        "logging.error(\"This is an error message.\")\n"
      ],
      "metadata": {
        "colab": {
          "base_uri": "https://localhost:8080/"
        },
        "id": "lPvuOldbglAu",
        "outputId": "1131162a-285d-44b1-d6c4-95aa324d688e"
      },
      "execution_count": null,
      "outputs": [
        {
          "output_type": "stream",
          "name": "stderr",
          "text": [
            "WARNING:root:This is a warning message.\n",
            "ERROR:root:This is an error message.\n"
          ]
        }
      ]
    },
    {
      "cell_type": "code",
      "source": [
        "#8\n",
        "try:\n",
        "    with open(\"nonexistent.txt\", \"r\") as file:\n",
        "        content = file.read()\n",
        "        print(content)\n",
        "except FileNotFoundError:\n",
        "    print(\"Error: File not found.\")\n",
        "\n"
      ],
      "metadata": {
        "colab": {
          "base_uri": "https://localhost:8080/"
        },
        "id": "KUHLybRPgwl0",
        "outputId": "98c2610c-750f-4486-d0ef-fa199730ff14"
      },
      "execution_count": null,
      "outputs": [
        {
          "output_type": "stream",
          "name": "stdout",
          "text": [
            "Error: File not found.\n"
          ]
        }
      ]
    },
    {
      "cell_type": "code",
      "source": [
        "#9\n",
        "lines = []\n",
        "with open(\"example.txt\", \"r\") as file:\n",
        "    for line in file:\n",
        "        lines.append(line.strip())\n",
        "print(lines)\n",
        "\n"
      ],
      "metadata": {
        "colab": {
          "base_uri": "https://localhost:8080/"
        },
        "id": "BTPKDHzhg5mk",
        "outputId": "00ec4dd3-6724-4cdb-882b-76eb1b0e19ec"
      },
      "execution_count": null,
      "outputs": [
        {
          "output_type": "stream",
          "name": "stdout",
          "text": [
            "['Hello, world!']\n"
          ]
        }
      ]
    },
    {
      "cell_type": "code",
      "source": [
        "#10\n",
        "with open(\"example.txt\", \"a\") as file:\n",
        "    file.write(\"This is new data being appended.\\n\")\n"
      ],
      "metadata": {
        "id": "ZuEoopxihBW9"
      },
      "execution_count": null,
      "outputs": []
    },
    {
      "cell_type": "code",
      "source": [
        "#11\n",
        "my_dict = {'a': 1, 'b': 2}\n",
        "\n",
        "try:\n",
        "    value = my_dict['c']\n",
        "    print(value)\n",
        "except KeyError:\n",
        "    print(\"Error: The key does not exist in the dictionary.\")\n"
      ],
      "metadata": {
        "colab": {
          "base_uri": "https://localhost:8080/"
        },
        "id": "ULoXvP4ahJ9l",
        "outputId": "b214be97-6b0e-4b4e-a56a-9f765e9ab3b1"
      },
      "execution_count": null,
      "outputs": [
        {
          "output_type": "stream",
          "name": "stdout",
          "text": [
            "Error: The key does not exist in the dictionary.\n"
          ]
        }
      ]
    },
    {
      "cell_type": "code",
      "source": [
        "#12\n",
        "try:\n",
        "    value = int(input(\"Enter a number: \"))\n",
        "    result = 10 / value\n",
        "    print(\"Result:\", result)\n",
        "except ValueError:\n",
        "    print(\"Error: Invalid input, not an integer.\")\n",
        "except ZeroDivisionError:\n",
        "    print(\"Error: Cannot divide by zero.\")\n",
        "except Exception as e:\n",
        "    print(\"An unexpected error occurred:\", e)\n"
      ],
      "metadata": {
        "colab": {
          "base_uri": "https://localhost:8080/"
        },
        "id": "psKj54fZhRCP",
        "outputId": "273e7ed3-0402-4f9d-a011-0b896a6188e6"
      },
      "execution_count": null,
      "outputs": [
        {
          "output_type": "stream",
          "name": "stdout",
          "text": [
            "Enter a number: 10\n",
            "Result: 1.0\n"
          ]
        }
      ]
    },
    {
      "cell_type": "code",
      "source": [
        "#13\n",
        "import os\n",
        "\n",
        "if os.path.isfile(\"example.txt\"):\n",
        "    with open(\"example.txt\", \"r\") as file:\n",
        "        print(file.read())\n",
        "else:\n",
        "    print(\"File does not exist.\")\n"
      ],
      "metadata": {
        "colab": {
          "base_uri": "https://localhost:8080/"
        },
        "id": "C7j55BkUhW05",
        "outputId": "8720dba8-8018-4e67-db7e-8fe6070870b8"
      },
      "execution_count": null,
      "outputs": [
        {
          "output_type": "stream",
          "name": "stdout",
          "text": [
            "Hello, world!This is new data being appended.\n",
            "\n"
          ]
        }
      ]
    },
    {
      "cell_type": "code",
      "source": [
        "#14\n",
        "import logging\n",
        "\n",
        "logging.basicConfig(filename=\"messages.log\", level=logging.INFO)\n",
        "\n",
        "logging.info(\"This is an informational message.\")\n",
        "logging.error(\"This is an error message.\")\n"
      ],
      "metadata": {
        "colab": {
          "base_uri": "https://localhost:8080/"
        },
        "id": "LKAE-_LohtKj",
        "outputId": "8c584b7b-06c4-4fc9-afb7-ff61bd8102bd"
      },
      "execution_count": null,
      "outputs": [
        {
          "output_type": "stream",
          "name": "stderr",
          "text": [
            "ERROR:root:This is an error message.\n"
          ]
        }
      ]
    },
    {
      "cell_type": "code",
      "source": [
        "#15\n",
        "import os\n",
        "\n",
        "file_name = \"example.txt\"\n",
        "\n",
        "if os.path.getsize(file_name) == 0:\n",
        "    print(\"File is empty.\")\n",
        "else:\n",
        "    with open(file_name, \"r\") as f:\n",
        "        print(f.read())\n"
      ],
      "metadata": {
        "colab": {
          "base_uri": "https://localhost:8080/"
        },
        "id": "caV4Ibyvh95c",
        "outputId": "44eb9e8a-e316-49fb-845d-66c3d9c3b489"
      },
      "execution_count": null,
      "outputs": [
        {
          "output_type": "stream",
          "name": "stdout",
          "text": [
            "Hello, world!This is new data being appended.\n",
            "\n"
          ]
        }
      ]
    },
    {
      "cell_type": "code",
      "source": [
        "#16\n",
        "from memory_profiler import profile\n",
        "\n",
        "@profile\n",
        "def create_large_list():\n",
        "    data = [i for i in range(1000000)]\n",
        "    return sum(data)\n",
        "\n",
        "if __name__ == \"__main__\":\n",
        "    create_large_list()\n",
        "\n"
      ],
      "metadata": {
        "colab": {
          "base_uri": "https://localhost:8080/",
          "height": 383
        },
        "id": "Soxvmo8iiEVz",
        "outputId": "c1bed859-bc1c-4d85-e28e-06f412d5e68f"
      },
      "execution_count": null,
      "outputs": [
        {
          "output_type": "error",
          "ename": "ModuleNotFoundError",
          "evalue": "No module named 'memory_profiler'",
          "traceback": [
            "\u001b[0;31m---------------------------------------------------------------------------\u001b[0m",
            "\u001b[0;31mModuleNotFoundError\u001b[0m                       Traceback (most recent call last)",
            "\u001b[0;32m/tmp/ipython-input-2376674040.py\u001b[0m in \u001b[0;36m<cell line: 0>\u001b[0;34m()\u001b[0m\n\u001b[1;32m      1\u001b[0m \u001b[0;31m#16\u001b[0m\u001b[0;34m\u001b[0m\u001b[0;34m\u001b[0m\u001b[0m\n\u001b[0;32m----> 2\u001b[0;31m \u001b[0;32mfrom\u001b[0m \u001b[0mmemory_profiler\u001b[0m \u001b[0;32mimport\u001b[0m \u001b[0mprofile\u001b[0m\u001b[0;34m\u001b[0m\u001b[0;34m\u001b[0m\u001b[0m\n\u001b[0m\u001b[1;32m      3\u001b[0m \u001b[0;34m\u001b[0m\u001b[0m\n\u001b[1;32m      4\u001b[0m \u001b[0;34m@\u001b[0m\u001b[0mprofile\u001b[0m\u001b[0;34m\u001b[0m\u001b[0;34m\u001b[0m\u001b[0m\n\u001b[1;32m      5\u001b[0m \u001b[0;32mdef\u001b[0m \u001b[0mcreate_large_list\u001b[0m\u001b[0;34m(\u001b[0m\u001b[0;34m)\u001b[0m\u001b[0;34m:\u001b[0m\u001b[0;34m\u001b[0m\u001b[0;34m\u001b[0m\u001b[0m\n",
            "\u001b[0;31mModuleNotFoundError\u001b[0m: No module named 'memory_profiler'",
            "",
            "\u001b[0;31m---------------------------------------------------------------------------\u001b[0;32m\nNOTE: If your import is failing due to a missing package, you can\nmanually install dependencies using either !pip or !apt.\n\nTo view examples of installing some common dependencies, click the\n\"Open Examples\" button below.\n\u001b[0;31m---------------------------------------------------------------------------\u001b[0m\n"
          ],
          "errorDetails": {
            "actions": [
              {
                "action": "open_url",
                "actionText": "Open Examples",
                "url": "/notebooks/snippets/importing_libraries.ipynb"
              }
            ]
          }
        }
      ]
    },
    {
      "cell_type": "code",
      "source": [
        "#17\n",
        "numbers = [1, 2, 3, 4, 5]\n",
        "\n",
        "with open(\"numbers.txt\", \"w\") as file:\n",
        "    for number in numbers:\n",
        "        file.write(f\"{number}\\n\")\n"
      ],
      "metadata": {
        "id": "t8Al0vHeidE_"
      },
      "execution_count": null,
      "outputs": []
    },
    {
      "cell_type": "code",
      "source": [
        "#18\n",
        "import logging\n",
        "from logging.handlers import RotatingFileHandler\n",
        "\n",
        "logger = logging.getLogger(\"rotating_logger\")\n",
        "logger.setLevel(logging.INFO)\n",
        "\n",
        "# Rotate after 1MB, keep 5 backup files\n",
        "handler = RotatingFileHandler(\"app.log\", maxBytes=1024*1024, backupCount=5)\n",
        "formatter = logging.Formatter('%(asctime)s - %(levelname)s - %(message)s')\n",
        "handler.setFormatter(formatter)\n",
        "logger.addHandler(handler)\n",
        "\n",
        "logger.info(\"This is an info message.\")\n",
        "logger.error(\"This is an error message.\")\n"
      ],
      "metadata": {
        "colab": {
          "base_uri": "https://localhost:8080/"
        },
        "id": "OuK_j6G1ix1f",
        "outputId": "d253f2b0-a839-478e-faf1-29c733d7ef0e"
      },
      "execution_count": null,
      "outputs": [
        {
          "output_type": "stream",
          "name": "stderr",
          "text": [
            "INFO:rotating_logger:This is an info message.\n",
            "ERROR:rotating_logger:This is an error message.\n"
          ]
        }
      ]
    },
    {
      "cell_type": "code",
      "source": [
        "#19\n",
        "my_list = [10, 20, 30]\n",
        "my_dict = {'a': 1, 'b': 2}\n",
        "\n",
        "try:\n",
        "    print(my_list[5])    # This will raise IndexError\n",
        "    print(my_dict['c'])  # This will raise KeyError\n",
        "except IndexError:\n",
        "    print(\"Caught IndexError: List index out of range.\")\n",
        "except KeyError:\n",
        "    print(\"Caught KeyError: Dictionary key does not exist.\")\n"
      ],
      "metadata": {
        "colab": {
          "base_uri": "https://localhost:8080/"
        },
        "id": "3xgahL-Li5Jz",
        "outputId": "ef2fd232-ec96-4a2c-cd47-42d0eabab422"
      },
      "execution_count": null,
      "outputs": [
        {
          "output_type": "stream",
          "name": "stdout",
          "text": [
            "Caught IndexError: List index out of range.\n"
          ]
        }
      ]
    },
    {
      "cell_type": "code",
      "source": [
        "#20\n",
        "with open(\"example.txt\", \"r\") as file:\n",
        "    content = file.read()\n",
        "    print(content)\n"
      ],
      "metadata": {
        "colab": {
          "base_uri": "https://localhost:8080/"
        },
        "id": "lKthHMzkjAL2",
        "outputId": "056c27cb-5495-4d9f-d710-9a8805b7fb9f"
      },
      "execution_count": null,
      "outputs": [
        {
          "output_type": "stream",
          "name": "stdout",
          "text": [
            "Hello, world!This is new data being appended.\n",
            "\n"
          ]
        }
      ]
    },
    {
      "cell_type": "code",
      "source": [
        "#21\n",
        "\n",
        "def count_word_in_file(filename, target_word):\n",
        "    try:\n",
        "        with open(filename, 'r', encoding='utf-8') as file:\n",
        "            content = file.read()\n",
        "            # Normalize content and target_word to lower case for case-insensitive matching\n",
        "            words = content.lower().split()\n",
        "            count = words.count(target_word.lower())\n",
        "            print(f\"The word '{target_word}' occurs {count} times in the file.\")\n",
        "    except FileNotFoundError:\n",
        "        print(f\"Error: The file '{filename}' was not found.\")\n",
        "    except Exception as e:\n",
        "        print(f\"An error occurred: {e}\")\n",
        "\n",
        "# Example usage:\n",
        "file_path = input(\"Enter the path to the file: \")\n",
        "word_to_search = input(\"Enter the word to count: \")\n",
        "count_word_in_file(file_path, word_to_search)\n"
      ],
      "metadata": {
        "colab": {
          "base_uri": "https://localhost:8080/"
        },
        "id": "Vic-RHvLjGly",
        "outputId": "77e0f48c-cac1-4d7d-b9f5-d6e94ef1d416"
      },
      "execution_count": null,
      "outputs": [
        {
          "output_type": "stream",
          "name": "stdout",
          "text": [
            "Enter the path to the file: c\n",
            "Enter the word to count: 25\n",
            "Error: The file 'c' was not found.\n"
          ]
        }
      ]
    },
    {
      "cell_type": "code",
      "source": [
        "#22\n",
        "import os\n",
        "\n",
        "file_name = \"example.txt\"\n",
        "\n",
        "if os.path.getsize(file_name) == 0:\n",
        "    print(\"File is empty.\")\n",
        "else:\n",
        "    with open(file_name, \"r\") as file:\n",
        "        print(file.read())\n"
      ],
      "metadata": {
        "colab": {
          "base_uri": "https://localhost:8080/"
        },
        "id": "w12mBefxjL7g",
        "outputId": "c83acf3e-79c7-4506-9a1c-cffe4bff21c6"
      },
      "execution_count": null,
      "outputs": [
        {
          "output_type": "stream",
          "name": "stdout",
          "text": [
            "Hello, world!This is new data being appended.\n",
            "\n"
          ]
        }
      ]
    },
    {
      "cell_type": "code",
      "source": [
        "#23\n",
        "import logging\n",
        "\n",
        "logging.basicConfig(filename=\"error.log\", level=logging.ERROR)\n",
        "\n",
        "try:\n",
        "    with open(\"notfound.txt\", \"r\") as file:\n",
        "        print(file.read())\n",
        "except Exception as e:\n",
        "    logging.error(\"File handling error: %s\", e)\n"
      ],
      "metadata": {
        "colab": {
          "base_uri": "https://localhost:8080/"
        },
        "id": "TooNfqd0jbTF",
        "outputId": "83c94768-8f83-45d0-d0a0-1f9f061ec929"
      },
      "execution_count": null,
      "outputs": [
        {
          "output_type": "stream",
          "name": "stderr",
          "text": [
            "ERROR:root:File handling error: [Errno 2] No such file or directory: 'notfound.txt'\n"
          ]
        }
      ]
    },
    {
      "cell_type": "code",
      "source": [],
      "metadata": {
        "id": "BnZ9VzPyjg89"
      },
      "execution_count": null,
      "outputs": []
    }
  ]
}