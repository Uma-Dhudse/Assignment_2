{
 "cells": [
  {
   "cell_type": "markdown",
   "id": "70ed9c9b-7b34-423f-907e-eebd1437d0de",
   "metadata": {},
   "source": [
    "Question No - 1.\n",
    "\n",
    "NumPy is a fast, open-source Python library for multidimensional arrays and efficient numerical operations. \n",
    "\n",
    "It offers:\n",
    "Compact, homogeneous ndarray arrays\n",
    "\n",
    "Optimized C backend for speed\n",
    "\n",
    "Vectorized math & broadcasting\n",
    "\n",
    "Built-in math tools (linear algebra, stats, FFT, etc.)\n",
    "\n",
    "A backbone for major scientific and ML Python libraries"
   ]
  },
  {
   "cell_type": "markdown",
   "id": "061066c5-053f-4f2e-a77c-5d99f15aa37a",
   "metadata": {},
   "source": [
    "Question No - 2\n",
    "\n",
    "Broadcasting in NumPy allows arithmetic operations on arrays of different shapes by matching dimensions from the right, padding the smaller array’s shape with ones on the left, and ensuring each dimension is either equal or 1. \n",
    "\n",
    "Dimensions of size 1 are virtually stretched to fit, creating a result with the maximum shape, all without copying data. \n",
    "\n",
    "Incompatible shapes produce an error.\n",
    "\n"
   ]
  },
  {
   "cell_type": "markdown",
   "id": "1cf107ac-7b13-41cb-8d4a-c57090c7e613",
   "metadata": {},
   "source": [
    "Question No - 3\n",
    "\n",
    "Pandas DataFrame is a two-dimensional, tabular data structure in the Pandas library (written in Python) that organizes data in rows and labeled columns, much like a spreadsheet or SQL table. Each column behaves like a Pandas Series—a one-dimensional labeled array built on NumPy arrays—and all columns can have different data types \n",
    "Reddit\n"
   ]
  },
  {
   "cell_type": "markdown",
   "id": "bae6b631-055e-479e-8bb4-ae4d9f4d7dfa",
   "metadata": {},
   "source": [
    "Question No - 4\n",
    "\n",
    "Pandas groupby() enables you to split a DataFrame into logical groups by one or more criteria, apply analytical or statistical functions to each group independently, and combine the results into concise summaries. \n",
    "\n",
    "It supports flexible grouping, multiple aggregations, transformations, and filtering, while offering control over output structure through parameters like as_index, sort, and dropna. \n",
    "\n",
    "This makes groupby() an essential tool for structured data analysis and reporting."
   ]
  },
  {
   "cell_type": "markdown",
   "id": "ea5b021c-2733-4942-ab35-cfd947f86b89",
   "metadata": {},
   "source": [
    "Question No - 5\n",
    "\n",
    "Seaborn is a high‑level Python visualization library built on Matplotlib. \n",
    "\n",
    "It’s preferred for statistical visualizations because it simplifies plot creation with cleaner syntax, automatic grouping and statistical estimation, integrated Pandas support, and polished default styling. \n",
    "\n",
    "This makes it especially powerful for exploratory data analysis and quickly generating informative, attractive graphics.\n",
    "\n"
   ]
  },
  {
   "cell_type": "markdown",
   "id": "0d45b11a-0aa4-4afe-8171-ca87b68e0889",
   "metadata": {},
   "source": [
    "Question No - 6\n",
    "\n",
    "-NumPy arrays are homogeneous, contiguous in memory, and low‑overhead, making them significantly more memory- and compute-efficient for large numerical datasets. \n",
    "They support fast, vectorized mathematical operations and broadcasting, features that Python lists lack.\n",
    "\n",
    "-Lists: can store mixed types (ints, strings, objects) whereas NumPy arrays: require all elements to share the same type (homogeneous) \n",
    "WIRED.\n",
    "\n",
    "-Lists: contain pointers to separate Python objects, leading to fragmented memory.\n",
    "Arrays: store elements in one contiguous block—more compact and cache-friendly\n",
    "\n",
    "-Lists: slower operations—each element handled by Python-level code.\n",
    "Arrays: vectorized C-based operations enable massively faster execution (sometimes 10×–100× faster)\n",
    "\n",
    "-Lists: no built-in vectorized math; need loops or list comprehensions.\n",
    "Arrays: support element-wise operations (like *, +, **), broadcasting, and rich mathematical functions (sum, mean, linear algebra, etc.) "
   ]
  },
  {
   "cell_type": "markdown",
   "id": "32d9668b-a6cb-4ae6-944a-baf229114867",
   "metadata": {},
   "source": [
    "Question No - 7\n",
    "\n",
    "A heatmap (or heat map) is a two-dimensional visual representation of data in a grid or matrix form, where each cell's color reflects its numerical value. Warmer colors (e.g. red) indicate higher values and cooler colors (e.g. blue or green) indicate lower values \n",
    "\n",
    "Heatmaps are ideal when you need to turn detailed, high-volume data into an intuitive, color‑coded visual summary. \n",
    "\n",
    "They’re especially effective for spotting correlations, comparing categories, and highlighting hotspots or cold spots at a glance. Best fit when the goal is to visually simplify complexity and facilitate quick insight.\n",
    "\n"
   ]
  },
  {
   "cell_type": "markdown",
   "id": "23955bb1-837e-4c14-9aad-73b24268c14a",
   "metadata": {},
   "source": [
    "Question No - 8\n",
    "\n",
    "Vectorized operations in NumPy allow element-wise calculations over entire arrays in one go—replacing explicit loops with efficient, compiled routines. \n",
    "\n",
    "This makes code faster, more concise, and better suited to working with large numerical datasets. They take advantage of optimized memory layout, low-level C/Fortran execution, and hardware-level parallelism."
   ]
  },
  {
   "cell_type": "markdown",
   "id": "04319874-1f37-4896-87e4-d1860a5a5aeb",
   "metadata": {},
   "source": [
    "Question No - 9\n",
    "\n",
    "Matplotlib is a Python library for creating static, publication-quality charts with full control over every visual detail. It is ideal when precision and customization are critical.\n",
    "\n",
    "Plotly is a modern library designed for interactive, web-ready visualizations. It supports features like hover, zoom, and dynamic dashboards with minimal code. It works especially well in exploratory data analysis and web applications."
   ]
  },
  {
   "cell_type": "markdown",
   "id": "ef32e84c-38a7-4551-8264-0866af8bba7d",
   "metadata": {},
   "source": [
    "Question No - 10\n",
    "\n",
    "Hierarchical indexing in Pandas provides a multi-level labeling system for rows or columns, enabling clear organization and efficient slicing of complex data, seamless aggregation and reshaping through group-by or stacking operations, and more memory-efficient storage—making it ideal for multi-dimensional or categorized datasets."
   ]
  },
  {
   "cell_type": "markdown",
   "id": "34fdd6a8-38f6-40f7-9e9f-8fde93922077",
   "metadata": {},
   "source": [
    "Question No - 11\n",
    "\n",
    "Seaborn’s pairplot() function automates the creation of a grid of scatter and distribution plots to visualize pairwise relationships and individual variable distributions in a dataset. It supports coloring by categories using the hue parameter and offers customization via kind, vars, and layout options. Widely used in exploratory data analysis, it helps analysts spot correlations, clusters, outliers, and patterns across numerical features. \n",
    "\n",
    "Due to its quadratic growth in grid size, it’s best suited for datasets with a moderate number of variables."
   ]
  },
  {
   "cell_type": "markdown",
   "id": "6d51c54c-49bb-463f-93df-e71e02bce630",
   "metadata": {},
   "source": [
    "Question No - 12\n",
    "\n",
    "The Pandas describe() function produces a concise summary of descriptive statistics for DataFrame or Series columns. \n",
    "\n",
    "For numeric data, it reports count, mean, standard deviation, minimum, maximum, and quartiles (25%, 50%, 75%). \n",
    "\n",
    "When used with include='all', it also summarizes categorical columns with count, unique values, most frequent value (top), and its frequency (freq). This function is ideal for quickly understanding data distribution, spotting anomalies or missing values, and guiding further data preprocessing or analysis steps."
   ]
  },
  {
   "cell_type": "markdown",
   "id": "7f965394-246d-4e06-926f-d3f329889a89",
   "metadata": {},
   "source": [
    "Question No - 13\n",
    "\n",
    "Handling missing data in Pandas is crucial because it ensures your analysis remains valid and unbiased. \n",
    "\n",
    "Unaddressed missing values can reduce sample size, distort statistical estimates, and break machine learning workflows. Proper handling strategies—such as imputation or deletion—help maintain data integrity, preserve statistical power, and retain meaningful relationships within the dataset. \n",
    "\n",
    "Without it, results may be misleading or outright invalid."
   ]
  },
  {
   "cell_type": "markdown",
   "id": "9c101323-1ef0-419c-8b55-e5004d4a617c",
   "metadata": {},
   "source": [
    "Question No - 14 \n",
    "\n",
    "1.Plotly offers several benefits for data visualization, especially in Python and data science workflows:\n",
    "\n",
    "2.Interactive Graphs: Plotly creates interactive charts by default (zoom, hover, filter), making data exploration easier.\n",
    "\n",
    "3.High-Quality Visuals: It produces publication-ready, visually appealing charts with modern styling.\n",
    "\n",
    "4.Wide Range of Charts: Supports line plots, bar charts, scatter plots, 3D plots, maps, heatmaps, and more advanced visualizations.\n",
    "\n",
    "5.Easy Integration: Works smoothly with Pandas, NumPy, and Dash (for building dashboards).\n",
    "\n",
    "6.Web-Based Visualization: Charts can be rendered in web browsers or exported to HTML, making them easy to share.\n",
    "\n",
    "7.Customizable: Offers detailed control over layout, colors, fonts, and interactivity.\n",
    "\n",
    "8.Supports Dashboards: Integrates with Dash to create full-featured interactive web applications without JavaScript.\n",
    "\n",
    "9.Cross-Platform Compatibility: Works in Jupyter Notebooks, web apps, and desktop environments."
   ]
  },
  {
   "cell_type": "markdown",
   "id": "964d5db0-c9e3-4add-8ade-8cf2ac1fcc14",
   "metadata": {},
   "source": [
    "Question No - 15\n",
    "\n",
    "NumPy handles multidimensional arrays using a powerful data structure called the ndarray (n-dimensional array). This array can have any number of dimensions such as 1D, 2D, 3D, or more, allowing users to work with complex data structures easily.\n",
    "\n",
    "Each NumPy array has the key properties like:\n",
    "\n",
    "Shape: It defines the size of the array along each dimension. For example, a 2x3 array has a shape of (2, 3).\n",
    "\n",
    "ndim: This attribute shows the number of dimensions the array has.\n",
    "\n",
    "NumPy stores data in a contiguous block of memory, which ensures fast processing and efficient memory usage. It allows indexing and slicing across multiple dimensions, making data access simple and intuitive.\n",
    "\n",
    "Additionally, NumPy supports broadcasting, which enables arithmetic operations between arrays of different shapes without writing explicit loops. It also allows vectorized operations, which perform element-wise calculations efficiently."
   ]
  },
  {
   "cell_type": "markdown",
   "id": "a467edcb-aff8-4099-b0b6-32607eb3b3ef",
   "metadata": {},
   "source": [
    "Question No - 16\n",
    "\n",
    "Interactive Visualization:\n",
    "One of the key features of Bokeh is its ability to produce interactive plots. Users can interact with the data using tools like zoom, pan, hover tooltips, sliders, and dropdowns. This makes the data exploration process easier and more insightful.\n",
    "\n",
    "Web-Based Output:\n",
    "Bokeh visualizations can be directly rendered in web browsers using HTML and JavaScript. This makes it ideal for creating dashboards and embedding plots in websites without requiring knowledge of front-end programming.\n",
    "\n",
    "Handling Large Datasets:\n",
    "Bokeh is designed to work efficiently with large datasets and streaming data. It can visualize thousands or even millions of points smoothly, making it suitable for real-time data applications.\n",
    "\n",
    "Customizable Dashboards and Layouts:\n",
    "Bokeh provides tools to arrange multiple plots and widgets into interactive dashboards. It allows developers to build fully customized applications with filters, tabs, and layout options.\n",
    "\n",
    "Integration with Other Tools:\n",
    "Bokeh integrates well with other Python libraries like Pandas, NumPy, and Jupyter Notebook. It can also be connected with Flask or Django to build full-fledged web applications.\n",
    "\n",
    "Supports Various Plot Types:\n",
    "Bokeh offers a wide variety of plots such as line charts, bar graphs, scatter plots, heatmaps, network graphs\n"
   ]
  },
  {
   "cell_type": "markdown",
   "id": "ecdc2c6a-a947-422f-84bc-07f92c75f1a0",
   "metadata": {},
   "source": [
    "Question No - 17\n",
    "\n",
    "-Usage:\n",
    "map() is used only with Series (single column).\n",
    "apply() can be used with both Series and DataFrames (multiple columns).\n",
    "\n",
    "-Function Application:\n",
    "map() applies a function element-wise to each value in a Series.\n",
    "apply() can apply a function element-wise (on Series) or row/column-wise (on DataFrame).\n",
    "\n",
    "-Function Types Accepted:\n",
    "map() can accept a function, dictionary, or Series.\n",
    "apply() accepts only functions.\n",
    "\n",
    "-Flexibility:\n",
    "map() is used for simple transformations like replacing values or applying a basic function.\n",
    "apply() is used for complex operations, especially when working with rows or columns.\n",
    "\n",
    "-Use in DataFrame:\n",
    "map() cannot be used directly on a DataFrame.\n",
    "apply() can be used directly on a DataFrame with axis=0 (columns) or axis=1 (rows).\n",
    "\n",
    "-Output:\n",
    "map() returns a Series.\n",
    "apply() returns a Series or DataFrame depending on the operation."
   ]
  },
  {
   "cell_type": "markdown",
   "id": "666f24e8-3cc0-4819-a5eb-5ef2c0042ca2",
   "metadata": {},
   "source": [
    "Question No -18 \n",
    "\n",
    "Broadcasting:\n",
    "Allows operations between arrays of different shapes without explicit looping. It simplifies code and improves performance.\n",
    "\n",
    "Vectorized Operations:\n",
    "Performs operations on entire arrays without using Python loops, making computations much faster.\n",
    "\n",
    "Multidimensional Arrays:\n",
    "Supports n-dimensional arrays with high performance, suitable for complex mathematical and scientific computations.\n",
    "\n",
    "Masked Arrays:\n",
    "Handles invalid or missing data by masking specific elements in the array.\n",
    "\n",
    "Linear Algebra Functions:\n",
    "Includes functions for matrix multiplication, eigenvalues, determinants, and solving linear equations.\n",
    "\n",
    "Fourier Transform:\n",
    "Supports Fast Fourier Transform (FFT) for signal and frequency analysis.\n",
    "\n",
    "Random Number Generation:\n",
    "Provides tools for generating random numbers and performing random sampling (useful in simulations and ML).\n",
    "\n",
    "Memory Efficiency:\n",
    "Uses less memory than Python lists and stores data in contiguous blocks, improving processing speed.\n",
    "\n",
    "Advanced Indexing and Slicing:\n",
    "Supports boolean indexing, fancy indexing, and conditional selection for powerful data access.\n",
    "\n",
    "Integration with Other Libraries:\n",
    "Easily integrates with libraries like Pandas, SciPy, Matplotlib, and Scikit-learn."
   ]
  },
  {
   "cell_type": "markdown",
   "id": "ade521ee-39a3-4394-becc-dfdb92a8e36d",
   "metadata": {},
   "source": [
    "Question No - 19\n",
    "\n",
    "Date and Time Handling:\n",
    "Pandas has built-in support for date and time objects using datetime64 and Timedelta data types.\n",
    "\n",
    "Datetime Indexing:\n",
    "Time series data can be indexed with DateTimeIndex, allowing easy selection, slicing, and filtering based on dates.\n",
    "\n",
    "Resampling:\n",
    "Pandas allows resampling of time series data to different frequencies (e.g., daily to monthly) using functions like .resample().\n",
    "\n",
    "Frequency Conversion:\n",
    "Supports upsampling and downsampling of time series data with proper handling of missing values.\n",
    "\n",
    "Rolling and Window Operations:\n",
    "Provides functions like .rolling() for moving average, rolling sum, and other window-based statistics.\n",
    "\n",
    "Time Shifting:\n",
    "Allows shifting data forward or backward in time using .shift() or .tshift(), useful for lag analysis.\n",
    "\n",
    "Handling Missing Dates:\n",
    "Automatically fills or manages missing date values, making the dataset continuous for analysis.\n",
    "\n",
    "Period and Timestamp Conversion:\n",
    "Supports conversion between timestamps and periods, helping with monthly, quarterly, or yearly data handling.\n",
    "\n",
    "Easy Plotting:\n",
    "Time-indexed data can be directly visualized using Pandas’ built-in plotting functions.\n",
    "\n",
    "Integration with NumPy and Matplotlib:\n",
    "Combines smoothly with other libraries to perform statistical, numerical, and graphical time series analysis."
   ]
  },
  {
   "cell_type": "markdown",
   "id": "d0b999ce-7234-407f-b2fa-c70db4ec2577",
   "metadata": {},
   "source": [
    "Question No -20\n",
    "\n",
    "Data Summarization:\n",
    "Pivot tables allow you to summarize large datasets by applying aggregation functions like sum(), mean(), count(), etc.\n",
    "\n",
    "Reorganizing Data:\n",
    "It helps to reshape data by turning unique values from one column into columns or rows, making the data easier to read and analyze.\n",
    "\n",
    "Grouping Data:\n",
    "Pivot tables group data based on one or more categorical columns and then apply calculations to numeric columns.\n",
    "\n",
    "Multi-Level Indexing:\n",
    "Supports hierarchical indexing, allowing multiple levels of grouping and summarization.\n",
    "\n",
    "Data Analysis:\n",
    "Makes it easier to perform comparative analysis, such as sales per region, average marks per subject, etc.\n",
    "\n",
    "Custom Aggregation:\n",
    "Users can specify custom aggregation functions for detailed analysis (e.g., using np.min, np.max, etc.).\n",
    "\n",
    "Efficient Reporting:\n",
    "Pivot tables are commonly used for report generation in business and data analysis tasks.\n",
    "\n",
    "Missing Data Handling:\n",
    "Automatically fills missing combinations with NaN, or allows filling them with default values using .fill_value.\n"
   ]
  },
  {
   "cell_type": "markdown",
   "id": "1c9c4e65-63ad-42c6-b7d8-71b31090ff2d",
   "metadata": {},
   "source": [
    "Question No - 21\n",
    "\n",
    "Homogeneous Data Type:\n",
    "NumPy arrays store data of the same data type in a contiguous memory block, while Python lists can contain mixed types, which slows down access.\n",
    "\n",
    "Contiguous Memory Storage:\n",
    "NumPy arrays are stored in continuous memory locations, enabling faster data retrieval and slicing operations compared to the scattered storage in Python lists.\n",
    "\n",
    "No Copying (View instead of Copy):\n",
    "Slicing a NumPy array returns a view (not a copy) of the original data. This avoids extra memory usage and makes slicing operations faster.\n",
    "\n",
    "Vectorized Implementation:\n",
    "NumPy uses low-level, optimized C code for internal operations, while Python lists rely on high-level interpreted code, which is slower.\n",
    "\n",
    "Fixed-Size Elements:\n",
    "Each element in a NumPy array takes up the same amount of memory, allowing faster indexing and computation, unlike variable-sized elements in lists.\n",
    "\n",
    "Efficient Indexing:\n",
    "NumPy uses efficient algorithms for index calculations, making slicing operations quicker than those on Python lists"
   ]
  },
  {
   "cell_type": "markdown",
   "id": "84536aea-bb8b-49b1-b839-d68767b56771",
   "metadata": {},
   "source": [
    "Question No - 22\n",
    "\n",
    "Statistical Data Visualization:\n",
    "Seaborn is ideal for creating plots that show relationships, distributions, and comparisons in datasets.\n",
    "\n",
    "Visualizing Distributions:\n",
    "Use plots like histplot(), kdeplot(), and distplot() to understand the distribution of a single variable.\n",
    "\n",
    "Analyzing Relationships Between Variables:\n",
    "Create scatter plots, line plots, or regression plots (like regplot() and lmplot()) to study the relationship between two or more variables.\n",
    "\n",
    "Categorical Data Visualization:\n",
    "Easily visualize categorical variables using box plots, bar plots, violin plots, and swarm plots.\n",
    "\n",
    "Heatmaps and Correlation Analysis:\n",
    "Use heatmap() to visualize correlation matrices or patterns in tabular data.\n",
    "\n",
    "Multi-Plot Grids:\n",
    "Use tools like FacetGrid, pairplot(), or catplot() to create multiple plots for subgroups of the data.\n",
    "\n",
    "Better Styling and Themes:\n",
    "Seaborn provides built-in themes (darkgrid, whitegrid, etc.) and color palettes to improve the visual appeal of plots.\n",
    "\n",
    "Integration with Pandas:\n",
    "Works directly with Pandas DataFrames, allowing quick visualization using column names as inputs.\n",
    "\n",
    "Data Exploration and EDA:\n",
    "Commonly used during Exploratory Data Analysis (EDA) to identify patterns, trends, and outliers in data."
   ]
  },
  {
   "cell_type": "code",
   "execution_count": null,
   "id": "20275e6d-befb-4f6c-9ab2-389f7f65af9a",
   "metadata": {},
   "outputs": [],
   "source": [
    "# Practical Questions"
   ]
  },
  {
   "cell_type": "code",
   "execution_count": null,
   "id": "bf095fba-d475-4dda-ba58-141709192b8b",
   "metadata": {},
   "outputs": [],
   "source": [
    "# Question No - 1\n"
   ]
  },
  {
   "cell_type": "code",
   "execution_count": null,
   "id": "59057b68-b22f-4b4d-8b91-12c02fbe0414",
   "metadata": {},
   "outputs": [],
   "source": [
    "# Question No - 2"
   ]
  },
  {
   "cell_type": "code",
   "execution_count": null,
   "id": "1aa807cb-0573-4bcb-84e0-7ef5cffe3f86",
   "metadata": {},
   "outputs": [],
   "source": [
    "# Question No -3"
   ]
  },
  {
   "cell_type": "code",
   "execution_count": null,
   "id": "d5c06f1d-223b-4065-9e09-cb88cbce7587",
   "metadata": {},
   "outputs": [],
   "source": [
    "# Question No -4"
   ]
  },
  {
   "cell_type": "code",
   "execution_count": null,
   "id": "a1692585-52cb-405d-b409-169648fb04c0",
   "metadata": {},
   "outputs": [],
   "source": [
    "# Question No -5"
   ]
  },
  {
   "cell_type": "code",
   "execution_count": null,
   "id": "dbc43455-dfb2-49a5-9c8e-97de84ac8b50",
   "metadata": {},
   "outputs": [],
   "source": [
    "# Question No -6"
   ]
  },
  {
   "cell_type": "code",
   "execution_count": null,
   "id": "2ce1094d-a5e5-4f3a-a525-20adba98dd3a",
   "metadata": {},
   "outputs": [],
   "source": [
    "# Question No -7"
   ]
  },
  {
   "cell_type": "code",
   "execution_count": null,
   "id": "d94b3193-cbd0-4170-bb2d-10127d8e0ed2",
   "metadata": {},
   "outputs": [],
   "source": [
    "# Question No -8"
   ]
  },
  {
   "cell_type": "code",
   "execution_count": null,
   "id": "becfab08-d1dc-435d-aab5-20ac3cd43a4b",
   "metadata": {},
   "outputs": [],
   "source": [
    "# Question No -9"
   ]
  },
  {
   "cell_type": "code",
   "execution_count": null,
   "id": "e9e40eb7-57f0-4775-b0fe-c55bca0e4bc4",
   "metadata": {},
   "outputs": [],
   "source": [
    "# Question No -10"
   ]
  },
  {
   "cell_type": "code",
   "execution_count": null,
   "id": "7d7adf3e-d710-4b72-a602-12ef895ac3a5",
   "metadata": {},
   "outputs": [],
   "source": [
    "# Question No -11"
   ]
  },
  {
   "cell_type": "code",
   "execution_count": null,
   "id": "89234ac6-ee59-4a18-9900-c80c773b6eaa",
   "metadata": {},
   "outputs": [],
   "source": [
    "# Question No -12"
   ]
  },
  {
   "cell_type": "code",
   "execution_count": null,
   "id": "85004bbe-75ef-477c-a12a-1db6f87077c1",
   "metadata": {},
   "outputs": [],
   "source": [
    "# Question No -13"
   ]
  }
 ],
 "metadata": {
  "kernelspec": {
   "display_name": "Python [conda env:base] *",
   "language": "python",
   "name": "conda-base-py"
  },
  "language_info": {
   "codemirror_mode": {
    "name": "ipython",
    "version": 3
   },
   "file_extension": ".py",
   "mimetype": "text/x-python",
   "name": "python",
   "nbconvert_exporter": "python",
   "pygments_lexer": "ipython3",
   "version": "3.12.7"
  }
 },
 "nbformat": 4,
 "nbformat_minor": 5
}
